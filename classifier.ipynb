{
 "cells": [
  {
   "cell_type": "code",
   "execution_count": 1,
   "id": "30fb036b",
   "metadata": {},
   "outputs": [],
   "source": [
    "import numpy as np\n",
    "import cv2\n",
    "import matplotlib\n",
    "from matplotlib import pyplot as plt\n",
    "%matplotlib inline\n"
   ]
  },
  {
   "cell_type": "markdown",
   "id": "0ab80241",
   "metadata": {},
   "source": [
    "WAVELET TRANFORMATION"
   ]
  },
  {
   "cell_type": "code",
   "execution_count": 2,
   "metadata": {},
   "outputs": [],
   "source": [
    "import numpy as np\n",
    "import pywt\n",
    "import cv2    \n",
    "\n",
    "def w2d(img, mode='haar', level=1):\n",
    "    imArray = img\n",
    "    #Datatype conversions\n",
    "    #convert to grayscale\n",
    "    imArray = cv2.cvtColor( imArray,cv2.COLOR_RGB2GRAY )\n",
    "    #convert to float\n",
    "    imArray =  np.float32(imArray)   \n",
    "    imArray /= 255;\n",
    "    # compute coefficients \n",
    "    coeffs=pywt.wavedec2(imArray, mode, level=level)\n",
    "\n",
    "    #Process Coefficients\n",
    "    coeffs_H=list(coeffs)  \n",
    "    coeffs_H[0] *= 0;  \n",
    "\n",
    "    # reconstruction\n",
    "    imArray_H=pywt.waverec2(coeffs_H, mode);\n",
    "    imArray_H *= 255;\n",
    "    imArray_H =  np.uint8(imArray_H)\n",
    "\n",
    "    return imArray_H"
   ]
  },
  {
   "cell_type": "code",
   "execution_count": 4,
   "id": "240802ac",
   "metadata": {},
   "outputs": [],
   "source": [
    "def get_cropped(image_path):\n",
    "    img = cv2.imread(image_path)\n",
    "    gray = cv2.cvtColor(img, cv2.COLOR_BGR2GRAY)\n",
    "    faces = face_cascade.detectMultiScale(gray, 1.3, 5)\n",
    "    for (x,y,w,h) in faces:\n",
    "        roi_gray = gray[y:y+h, x:x+w]\n",
    "        roi_color = img[y:y+h, x:x+w]\n",
    "        eyes = eye_cascade.detectMultiScale(roi_gray)\n",
    "        if len(eyes) >= 2:\n",
    "            return roi_color"
   ]
  },
  {
   "cell_type": "code",
   "execution_count": 3,
   "id": "4a1544b7",
   "metadata": {},
   "outputs": [],
   "source": [
    "face_cascade = cv2.CascadeClassifier('./opencv/haarcascades/haarcascade_frontalface_default.xml')\n",
    "eye_cascade = cv2.CascadeClassifier('./opencv/haarcascades/haarcascade_eye.xml')\n"
   ]
  },
  {
   "cell_type": "code",
   "execution_count": 5,
   "id": "b853ceff",
   "metadata": {},
   "outputs": [],
   "source": [
    "path_to_data = \"./dataset/\"\n",
    "path_to_cr_data = \"./dataset/cropped/\"\n",
    "import os\n",
    "img_dirs = []\n",
    "for entry in os.scandir(path_to_data):\n",
    "    if entry.is_dir():\n",
    "        img_dirs.append(entry.path)"
   ]
  },
  {
   "cell_type": "code",
   "execution_count": 6,
   "id": "32705268",
   "metadata": {},
   "outputs": [
    {
     "data": {
      "text/plain": [
       "['./dataset/chritiano_ronaldo',\n",
       " './dataset/gukesh',\n",
       " './dataset/neeraj_chopra',\n",
       " './dataset/pv_sindhu',\n",
       " './dataset/shubhman_gill']"
      ]
     },
     "execution_count": 6,
     "metadata": {},
     "output_type": "execute_result"
    }
   ],
   "source": [
    "img_dirs"
   ]
  },
  {
   "cell_type": "code",
   "execution_count": 7,
   "id": "8a76f9a2",
   "metadata": {},
   "outputs": [],
   "source": [
    "import shutil\n",
    "if os.path.exists(path_to_cr_data):\n",
    "     shutil.rmtree(path_to_cr_data)\n",
    "os.mkdir(path_to_cr_data)"
   ]
  },
  {
   "cell_type": "code",
   "execution_count": 8,
   "id": "c002e139",
   "metadata": {},
   "outputs": [
    {
     "name": "stdout",
     "output_type": "stream",
     "text": [
      "Generating cropped images in folder:  ./dataset/cropped/chritiano_ronaldo\n",
      "Generating cropped images in folder:  ./dataset/cropped/gukesh\n",
      "Generating cropped images in folder:  ./dataset/cropped/neeraj_chopra\n",
      "Generating cropped images in folder:  ./dataset/cropped/pv_sindhu\n",
      "Generating cropped images in folder:  ./dataset/cropped/shubhman_gill\n"
     ]
    },
    {
     "ename": "error",
     "evalue": "OpenCV(4.12.0) D:\\a\\opencv-python\\opencv-python\\opencv\\modules\\imgproc\\src\\color.cpp:199: error: (-215:Assertion failed) !_src.empty() in function 'cv::cvtColor'\n",
     "output_type": "error",
     "traceback": [
      "\u001b[31m---------------------------------------------------------------------------\u001b[39m",
      "\u001b[31merror\u001b[39m                                     Traceback (most recent call last)",
      "\u001b[36mCell\u001b[39m\u001b[36m \u001b[39m\u001b[32mIn[8]\u001b[39m\u001b[32m, line 8\u001b[39m\n\u001b[32m      6\u001b[39m person_file_dict[celebrity_name] = []\n\u001b[32m      7\u001b[39m \u001b[38;5;28;01mfor\u001b[39;00m entry \u001b[38;5;129;01min\u001b[39;00m os.scandir(img_dir):\n\u001b[32m----> \u001b[39m\u001b[32m8\u001b[39m     roi_color = \u001b[43mget_cropped\u001b[49m\u001b[43m(\u001b[49m\u001b[43mentry\u001b[49m\u001b[43m.\u001b[49m\u001b[43mpath\u001b[49m\u001b[43m)\u001b[49m\n\u001b[32m      9\u001b[39m     \u001b[38;5;28;01mif\u001b[39;00m roi_color \u001b[38;5;129;01mis\u001b[39;00m \u001b[38;5;129;01mnot\u001b[39;00m \u001b[38;5;28;01mNone\u001b[39;00m:\n\u001b[32m     10\u001b[39m         cropped_folder = path_to_cr_data + celebrity_name\n",
      "\u001b[36mCell\u001b[39m\u001b[36m \u001b[39m\u001b[32mIn[4]\u001b[39m\u001b[32m, line 3\u001b[39m, in \u001b[36mget_cropped\u001b[39m\u001b[34m(image_path)\u001b[39m\n\u001b[32m      1\u001b[39m \u001b[38;5;28;01mdef\u001b[39;00m\u001b[38;5;250m \u001b[39m\u001b[34mget_cropped\u001b[39m(image_path):\n\u001b[32m      2\u001b[39m     img = cv2.imread(image_path)\n\u001b[32m----> \u001b[39m\u001b[32m3\u001b[39m     gray = \u001b[43mcv2\u001b[49m\u001b[43m.\u001b[49m\u001b[43mcvtColor\u001b[49m\u001b[43m(\u001b[49m\u001b[43mimg\u001b[49m\u001b[43m,\u001b[49m\u001b[43m \u001b[49m\u001b[43mcv2\u001b[49m\u001b[43m.\u001b[49m\u001b[43mCOLOR_BGR2GRAY\u001b[49m\u001b[43m)\u001b[49m\n\u001b[32m      4\u001b[39m     faces = face_cascade.detectMultiScale(gray, \u001b[32m1.3\u001b[39m, \u001b[32m5\u001b[39m)\n\u001b[32m      5\u001b[39m     \u001b[38;5;28;01mfor\u001b[39;00m (x,y,w,h) \u001b[38;5;129;01min\u001b[39;00m faces:\n",
      "\u001b[31merror\u001b[39m: OpenCV(4.12.0) D:\\a\\opencv-python\\opencv-python\\opencv\\modules\\imgproc\\src\\color.cpp:199: error: (-215:Assertion failed) !_src.empty() in function 'cv::cvtColor'\n"
     ]
    }
   ],
   "source": [
    "cropped_img_dirs = []\n",
    "person_file_dict = {}\n",
    "for img_dir in img_dirs:\n",
    "    count = 1\n",
    "    celebrity_name = img_dir.split('/')[-1]\n",
    "    person_file_dict[celebrity_name] = []\n",
    "    for entry in os.scandir(img_dir):\n",
    "        roi_color = get_cropped(entry.path)\n",
    "        if roi_color is not None:\n",
    "            cropped_folder = path_to_cr_data + celebrity_name\n",
    "            if not os.path.exists(cropped_folder):\n",
    "                os.makedirs(cropped_folder)\n",
    "                cropped_img_dirs.append(cropped_folder)\n",
    "                print(\"Generating cropped images in folder: \",cropped_folder)\n",
    "            cropped_file_name = celebrity_name + str(count) + \".png\"\n",
    "            cropped_file_path = cropped_folder + \"/\" + cropped_file_name\n",
    "            cv2.imwrite(cropped_file_path, roi_color)\n",
    "            person_file_dict[celebrity_name].append(cropped_file_path)\n",
    "            count += 1"
   ]
  },
  {
   "cell_type": "code",
   "execution_count": 9,
   "id": "d11a2b97",
   "metadata": {},
   "outputs": [
    {
     "data": {
      "text/plain": [
       "{'chritiano_ronaldo': ['./dataset/cropped/chritiano_ronaldo\\\\chritiano_ronaldo1.png',\n",
       "  './dataset/cropped/chritiano_ronaldo\\\\chritiano_ronaldo10.png',\n",
       "  './dataset/cropped/chritiano_ronaldo\\\\chritiano_ronaldo11.png',\n",
       "  './dataset/cropped/chritiano_ronaldo\\\\chritiano_ronaldo12.png',\n",
       "  './dataset/cropped/chritiano_ronaldo\\\\chritiano_ronaldo13.png',\n",
       "  './dataset/cropped/chritiano_ronaldo\\\\chritiano_ronaldo14.png',\n",
       "  './dataset/cropped/chritiano_ronaldo\\\\chritiano_ronaldo15.png',\n",
       "  './dataset/cropped/chritiano_ronaldo\\\\chritiano_ronaldo16.png',\n",
       "  './dataset/cropped/chritiano_ronaldo\\\\chritiano_ronaldo17.png',\n",
       "  './dataset/cropped/chritiano_ronaldo\\\\chritiano_ronaldo18.png',\n",
       "  './dataset/cropped/chritiano_ronaldo\\\\chritiano_ronaldo19.png',\n",
       "  './dataset/cropped/chritiano_ronaldo\\\\chritiano_ronaldo2.png',\n",
       "  './dataset/cropped/chritiano_ronaldo\\\\chritiano_ronaldo20.png',\n",
       "  './dataset/cropped/chritiano_ronaldo\\\\chritiano_ronaldo21.png',\n",
       "  './dataset/cropped/chritiano_ronaldo\\\\chritiano_ronaldo22.png',\n",
       "  './dataset/cropped/chritiano_ronaldo\\\\chritiano_ronaldo23.png',\n",
       "  './dataset/cropped/chritiano_ronaldo\\\\chritiano_ronaldo24.png',\n",
       "  './dataset/cropped/chritiano_ronaldo\\\\chritiano_ronaldo25.png',\n",
       "  './dataset/cropped/chritiano_ronaldo\\\\chritiano_ronaldo3.png',\n",
       "  './dataset/cropped/chritiano_ronaldo\\\\chritiano_ronaldo4.png',\n",
       "  './dataset/cropped/chritiano_ronaldo\\\\chritiano_ronaldo5.png',\n",
       "  './dataset/cropped/chritiano_ronaldo\\\\chritiano_ronaldo6.png',\n",
       "  './dataset/cropped/chritiano_ronaldo\\\\chritiano_ronaldo7.png',\n",
       "  './dataset/cropped/chritiano_ronaldo\\\\chritiano_ronaldo8.png',\n",
       "  './dataset/cropped/chritiano_ronaldo\\\\chritiano_ronaldo9.png'],\n",
       " 'gukesh': ['./dataset/cropped/gukesh\\\\gukesh1.png',\n",
       "  './dataset/cropped/gukesh\\\\gukesh10.png',\n",
       "  './dataset/cropped/gukesh\\\\gukesh11.png',\n",
       "  './dataset/cropped/gukesh\\\\gukesh12.png',\n",
       "  './dataset/cropped/gukesh\\\\gukesh13.png',\n",
       "  './dataset/cropped/gukesh\\\\gukesh14.png',\n",
       "  './dataset/cropped/gukesh\\\\gukesh15.png',\n",
       "  './dataset/cropped/gukesh\\\\gukesh16.png',\n",
       "  './dataset/cropped/gukesh\\\\gukesh17.png',\n",
       "  './dataset/cropped/gukesh\\\\gukesh18.png',\n",
       "  './dataset/cropped/gukesh\\\\gukesh19.png',\n",
       "  './dataset/cropped/gukesh\\\\gukesh2.png',\n",
       "  './dataset/cropped/gukesh\\\\gukesh20.png',\n",
       "  './dataset/cropped/gukesh\\\\gukesh21.png',\n",
       "  './dataset/cropped/gukesh\\\\gukesh22.png',\n",
       "  './dataset/cropped/gukesh\\\\gukesh23.png',\n",
       "  './dataset/cropped/gukesh\\\\gukesh24.png',\n",
       "  './dataset/cropped/gukesh\\\\gukesh25.png',\n",
       "  './dataset/cropped/gukesh\\\\gukesh26.png',\n",
       "  './dataset/cropped/gukesh\\\\gukesh3.png',\n",
       "  './dataset/cropped/gukesh\\\\gukesh4.png',\n",
       "  './dataset/cropped/gukesh\\\\gukesh5.png',\n",
       "  './dataset/cropped/gukesh\\\\gukesh6.png',\n",
       "  './dataset/cropped/gukesh\\\\gukesh7.png',\n",
       "  './dataset/cropped/gukesh\\\\gukesh8.png',\n",
       "  './dataset/cropped/gukesh\\\\gukesh9.png'],\n",
       " 'neeraj_chopra': ['./dataset/cropped/neeraj_chopra\\\\neeraj_chopra1.png',\n",
       "  './dataset/cropped/neeraj_chopra\\\\neeraj_chopra10.png',\n",
       "  './dataset/cropped/neeraj_chopra\\\\neeraj_chopra11.png',\n",
       "  './dataset/cropped/neeraj_chopra\\\\neeraj_chopra12.png',\n",
       "  './dataset/cropped/neeraj_chopra\\\\neeraj_chopra13.png',\n",
       "  './dataset/cropped/neeraj_chopra\\\\neeraj_chopra14.png',\n",
       "  './dataset/cropped/neeraj_chopra\\\\neeraj_chopra15.png',\n",
       "  './dataset/cropped/neeraj_chopra\\\\neeraj_chopra16.png',\n",
       "  './dataset/cropped/neeraj_chopra\\\\neeraj_chopra17.png',\n",
       "  './dataset/cropped/neeraj_chopra\\\\neeraj_chopra18.png',\n",
       "  './dataset/cropped/neeraj_chopra\\\\neeraj_chopra19.png',\n",
       "  './dataset/cropped/neeraj_chopra\\\\neeraj_chopra2.png',\n",
       "  './dataset/cropped/neeraj_chopra\\\\neeraj_chopra20.png',\n",
       "  './dataset/cropped/neeraj_chopra\\\\neeraj_chopra21.png',\n",
       "  './dataset/cropped/neeraj_chopra\\\\neeraj_chopra22.png',\n",
       "  './dataset/cropped/neeraj_chopra\\\\neeraj_chopra23.png',\n",
       "  './dataset/cropped/neeraj_chopra\\\\neeraj_chopra24.png',\n",
       "  './dataset/cropped/neeraj_chopra\\\\neeraj_chopra25.png',\n",
       "  './dataset/cropped/neeraj_chopra\\\\neeraj_chopra3.png',\n",
       "  './dataset/cropped/neeraj_chopra\\\\neeraj_chopra4.png',\n",
       "  './dataset/cropped/neeraj_chopra\\\\neeraj_chopra5.png',\n",
       "  './dataset/cropped/neeraj_chopra\\\\neeraj_chopra6.png',\n",
       "  './dataset/cropped/neeraj_chopra\\\\neeraj_chopra7.png',\n",
       "  './dataset/cropped/neeraj_chopra\\\\neeraj_chopra8.png',\n",
       "  './dataset/cropped/neeraj_chopra\\\\neeraj_chopra9.png'],\n",
       " 'pv_sindhu': ['./dataset/cropped/pv_sindhu\\\\pv_sindhu1.png',\n",
       "  './dataset/cropped/pv_sindhu\\\\pv_sindhu10.png',\n",
       "  './dataset/cropped/pv_sindhu\\\\pv_sindhu11.png',\n",
       "  './dataset/cropped/pv_sindhu\\\\pv_sindhu12.png',\n",
       "  './dataset/cropped/pv_sindhu\\\\pv_sindhu13.png',\n",
       "  './dataset/cropped/pv_sindhu\\\\pv_sindhu14.png',\n",
       "  './dataset/cropped/pv_sindhu\\\\pv_sindhu15.png',\n",
       "  './dataset/cropped/pv_sindhu\\\\pv_sindhu16.png',\n",
       "  './dataset/cropped/pv_sindhu\\\\pv_sindhu17.png',\n",
       "  './dataset/cropped/pv_sindhu\\\\pv_sindhu18.png',\n",
       "  './dataset/cropped/pv_sindhu\\\\pv_sindhu19.png',\n",
       "  './dataset/cropped/pv_sindhu\\\\pv_sindhu2.png',\n",
       "  './dataset/cropped/pv_sindhu\\\\pv_sindhu20.png',\n",
       "  './dataset/cropped/pv_sindhu\\\\pv_sindhu21.png',\n",
       "  './dataset/cropped/pv_sindhu\\\\pv_sindhu22.png',\n",
       "  './dataset/cropped/pv_sindhu\\\\pv_sindhu23.png',\n",
       "  './dataset/cropped/pv_sindhu\\\\pv_sindhu3.png',\n",
       "  './dataset/cropped/pv_sindhu\\\\pv_sindhu4.png',\n",
       "  './dataset/cropped/pv_sindhu\\\\pv_sindhu5.png',\n",
       "  './dataset/cropped/pv_sindhu\\\\pv_sindhu6.png',\n",
       "  './dataset/cropped/pv_sindhu\\\\pv_sindhu7.png',\n",
       "  './dataset/cropped/pv_sindhu\\\\pv_sindhu8.png',\n",
       "  './dataset/cropped/pv_sindhu\\\\pv_sindhu9.png'],\n",
       " 'shubhman_gill': ['./dataset/cropped/shubhman_gill\\\\shubhman_gill1.png',\n",
       "  './dataset/cropped/shubhman_gill\\\\shubhman_gill2.png',\n",
       "  './dataset/cropped/shubhman_gill\\\\shubhman_gill3.png',\n",
       "  './dataset/cropped/shubhman_gill\\\\shubhman_gill4.png']}"
      ]
     },
     "execution_count": 9,
     "metadata": {},
     "output_type": "execute_result"
    }
   ],
   "source": [
    "person_file_dict = {}\n",
    "for img_dir in cropped_img_dirs:\n",
    "    person_name = img_dir.split('/')[-1]\n",
    "    file_list = []\n",
    "    for entry in os.scandir(img_dir):\n",
    "        file_list.append(entry.path)\n",
    "    person_file_dict[person_name] = file_list\n",
    "person_file_dict"
   ]
  },
  {
   "cell_type": "code",
   "execution_count": 10,
   "id": "572d1a94",
   "metadata": {},
   "outputs": [
    {
     "data": {
      "text/plain": [
       "{'chritiano_ronaldo': 0,\n",
       " 'gukesh': 1,\n",
       " 'neeraj_chopra': 2,\n",
       " 'pv_sindhu': 3,\n",
       " 'shubhman_gill': 4}"
      ]
     },
     "execution_count": 10,
     "metadata": {},
     "output_type": "execute_result"
    }
   ],
   "source": [
    "class_dict = {}\n",
    "count = 0\n",
    "for person_name in person_file_dict.keys():\n",
    "    class_dict[person_name] = count\n",
    "    count = count + 1\n",
    "class_dict"
   ]
  },
  {
   "cell_type": "code",
   "execution_count": 11,
   "id": "41fcd55e",
   "metadata": {},
   "outputs": [],
   "source": [
    "X, y = [], []\n",
    "for person_name, training_files in person_file_dict.items():\n",
    "    for training_image in training_files:\n",
    "        img = cv2.imread(training_image)\n",
    "        scalled_raw_img = cv2.resize(img, (32, 32))\n",
    "        img_har = w2d(img,'db1',5)\n",
    "        scalled_img_har = cv2.resize(img_har, (32, 32))\n",
    "        combined_img = np.vstack((scalled_raw_img.reshape(32*32*3,1),scalled_img_har.reshape(32*32,1)))\n",
    "        X.append(combined_img)\n",
    "        y.append(class_dict[person_name])  "
   ]
  },
  {
   "cell_type": "markdown",
   "id": "92429b3e",
   "metadata": {},
   "source": [
    "MODEL TRAINING : SVM AND LOGISTIC REGRESSION"
   ]
  },
  {
   "cell_type": "code",
   "execution_count": 12,
   "id": "d7908984",
   "metadata": {},
   "outputs": [],
   "source": [
    "from sklearn.svm import SVC\n",
    "from sklearn.preprocessing import StandardScaler\n",
    "from sklearn.model_selection import train_test_split\n",
    "from sklearn.pipeline import Pipeline"
   ]
  },
  {
   "cell_type": "code",
   "execution_count": 13,
   "id": "e7bb209d",
   "metadata": {},
   "outputs": [],
   "source": [
    "from sklearn.metrics import classification_report"
   ]
  },
  {
   "cell_type": "code",
   "execution_count": 14,
   "id": "ed642c25",
   "metadata": {},
   "outputs": [
    {
     "data": {
      "text/plain": [
       "(103, 4096)"
      ]
     },
     "execution_count": 14,
     "metadata": {},
     "output_type": "execute_result"
    }
   ],
   "source": [
    "X = np.array(X).reshape(len(X),4096).astype(float)\n",
    "X.shape"
   ]
  },
  {
   "cell_type": "code",
   "execution_count": 15,
   "id": "05fcba93",
   "metadata": {},
   "outputs": [
    {
     "data": {
      "text/plain": [
       "0.7692307692307693"
      ]
     },
     "execution_count": 15,
     "metadata": {},
     "output_type": "execute_result"
    }
   ],
   "source": [
    "X_train, X_test, y_train, y_test = train_test_split(X, y, random_state=0)\n",
    "\n",
    "pipe = Pipeline([('scaler', StandardScaler()), ('svc', SVC(kernel = 'rbf', C = 10))])\n",
    "pipe.fit(X_train, y_train)\n",
    "pipe.score(X_test, y_test)"
   ]
  },
  {
   "cell_type": "code",
   "execution_count": 16,
   "id": "9f8b753b",
   "metadata": {},
   "outputs": [],
   "source": [
    "from sklearn import svm\n",
    "\n",
    "from sklearn.linear_model import LogisticRegression\n",
    "from sklearn.pipeline import make_pipeline\n",
    "from sklearn.model_selection import GridSearchCV"
   ]
  },
  {
   "cell_type": "code",
   "execution_count": 17,
   "id": "d86fabef",
   "metadata": {},
   "outputs": [],
   "source": [
    "model_params = {\n",
    "    'svm': {\n",
    "        'model': svm.SVC(gamma='auto',probability=True),\n",
    "        'params' : {\n",
    "            'svc__C': [1,10,100,1000],\n",
    "            'svc__kernel': ['rbf','linear']\n",
    "        }  \n",
    "    },\n",
    "    'logistic_regression' : {\n",
    "        'model': LogisticRegression(solver='liblinear',multi_class='auto'),\n",
    "        'params': {\n",
    "            'logisticregression__C': [1,5,10]\n",
    "        }\n",
    "    }\n",
    "}"
   ]
  },
  {
   "cell_type": "code",
   "execution_count": 22,
   "id": "867614dc",
   "metadata": {},
   "outputs": [
    {
     "name": "stderr",
     "output_type": "stream",
     "text": [
      "c:\\MINOR_PROJECT\\Classifier\\venv\\Lib\\site-packages\\sklearn\\model_selection\\_split.py:811: UserWarning: The least populated class in y has only 4 members, which is less than n_splits=5.\n",
      "  warnings.warn(\n",
      "c:\\MINOR_PROJECT\\Classifier\\venv\\Lib\\site-packages\\sklearn\\model_selection\\_split.py:811: UserWarning: The least populated class in y has only 4 members, which is less than n_splits=5.\n",
      "  warnings.warn(\n",
      "c:\\MINOR_PROJECT\\Classifier\\venv\\Lib\\site-packages\\sklearn\\linear_model\\_logistic.py:1272: FutureWarning: 'multi_class' was deprecated in version 1.5 and will be removed in 1.7. From then on, it will always use 'multinomial'. Leave it to its default value to avoid this warning.\n",
      "  warnings.warn(\n",
      "c:\\MINOR_PROJECT\\Classifier\\venv\\Lib\\site-packages\\sklearn\\linear_model\\_logistic.py:1296: FutureWarning: Using the 'liblinear' solver for multiclass classification is deprecated. An error will be raised in 1.8. Either use another solver which supports the multinomial loss or wrap the estimator in a OneVsRestClassifier to keep applying a one-versus-rest scheme.\n",
      "  warnings.warn(\n",
      "c:\\MINOR_PROJECT\\Classifier\\venv\\Lib\\site-packages\\sklearn\\linear_model\\_logistic.py:1272: FutureWarning: 'multi_class' was deprecated in version 1.5 and will be removed in 1.7. From then on, it will always use 'multinomial'. Leave it to its default value to avoid this warning.\n",
      "  warnings.warn(\n",
      "c:\\MINOR_PROJECT\\Classifier\\venv\\Lib\\site-packages\\sklearn\\linear_model\\_logistic.py:1296: FutureWarning: Using the 'liblinear' solver for multiclass classification is deprecated. An error will be raised in 1.8. Either use another solver which supports the multinomial loss or wrap the estimator in a OneVsRestClassifier to keep applying a one-versus-rest scheme.\n",
      "  warnings.warn(\n",
      "c:\\MINOR_PROJECT\\Classifier\\venv\\Lib\\site-packages\\sklearn\\linear_model\\_logistic.py:1272: FutureWarning: 'multi_class' was deprecated in version 1.5 and will be removed in 1.7. From then on, it will always use 'multinomial'. Leave it to its default value to avoid this warning.\n",
      "  warnings.warn(\n",
      "c:\\MINOR_PROJECT\\Classifier\\venv\\Lib\\site-packages\\sklearn\\linear_model\\_logistic.py:1296: FutureWarning: Using the 'liblinear' solver for multiclass classification is deprecated. An error will be raised in 1.8. Either use another solver which supports the multinomial loss or wrap the estimator in a OneVsRestClassifier to keep applying a one-versus-rest scheme.\n",
      "  warnings.warn(\n",
      "c:\\MINOR_PROJECT\\Classifier\\venv\\Lib\\site-packages\\sklearn\\linear_model\\_logistic.py:1272: FutureWarning: 'multi_class' was deprecated in version 1.5 and will be removed in 1.7. From then on, it will always use 'multinomial'. Leave it to its default value to avoid this warning.\n",
      "  warnings.warn(\n",
      "c:\\MINOR_PROJECT\\Classifier\\venv\\Lib\\site-packages\\sklearn\\linear_model\\_logistic.py:1296: FutureWarning: Using the 'liblinear' solver for multiclass classification is deprecated. An error will be raised in 1.8. Either use another solver which supports the multinomial loss or wrap the estimator in a OneVsRestClassifier to keep applying a one-versus-rest scheme.\n",
      "  warnings.warn(\n",
      "c:\\MINOR_PROJECT\\Classifier\\venv\\Lib\\site-packages\\sklearn\\linear_model\\_logistic.py:1272: FutureWarning: 'multi_class' was deprecated in version 1.5 and will be removed in 1.7. From then on, it will always use 'multinomial'. Leave it to its default value to avoid this warning.\n",
      "  warnings.warn(\n",
      "c:\\MINOR_PROJECT\\Classifier\\venv\\Lib\\site-packages\\sklearn\\linear_model\\_logistic.py:1296: FutureWarning: Using the 'liblinear' solver for multiclass classification is deprecated. An error will be raised in 1.8. Either use another solver which supports the multinomial loss or wrap the estimator in a OneVsRestClassifier to keep applying a one-versus-rest scheme.\n",
      "  warnings.warn(\n",
      "c:\\MINOR_PROJECT\\Classifier\\venv\\Lib\\site-packages\\sklearn\\linear_model\\_logistic.py:1272: FutureWarning: 'multi_class' was deprecated in version 1.5 and will be removed in 1.7. From then on, it will always use 'multinomial'. Leave it to its default value to avoid this warning.\n",
      "  warnings.warn(\n",
      "c:\\MINOR_PROJECT\\Classifier\\venv\\Lib\\site-packages\\sklearn\\linear_model\\_logistic.py:1296: FutureWarning: Using the 'liblinear' solver for multiclass classification is deprecated. An error will be raised in 1.8. Either use another solver which supports the multinomial loss or wrap the estimator in a OneVsRestClassifier to keep applying a one-versus-rest scheme.\n",
      "  warnings.warn(\n",
      "c:\\MINOR_PROJECT\\Classifier\\venv\\Lib\\site-packages\\sklearn\\linear_model\\_logistic.py:1272: FutureWarning: 'multi_class' was deprecated in version 1.5 and will be removed in 1.7. From then on, it will always use 'multinomial'. Leave it to its default value to avoid this warning.\n",
      "  warnings.warn(\n",
      "c:\\MINOR_PROJECT\\Classifier\\venv\\Lib\\site-packages\\sklearn\\linear_model\\_logistic.py:1296: FutureWarning: Using the 'liblinear' solver for multiclass classification is deprecated. An error will be raised in 1.8. Either use another solver which supports the multinomial loss or wrap the estimator in a OneVsRestClassifier to keep applying a one-versus-rest scheme.\n",
      "  warnings.warn(\n",
      "c:\\MINOR_PROJECT\\Classifier\\venv\\Lib\\site-packages\\sklearn\\linear_model\\_logistic.py:1272: FutureWarning: 'multi_class' was deprecated in version 1.5 and will be removed in 1.7. From then on, it will always use 'multinomial'. Leave it to its default value to avoid this warning.\n",
      "  warnings.warn(\n",
      "c:\\MINOR_PROJECT\\Classifier\\venv\\Lib\\site-packages\\sklearn\\linear_model\\_logistic.py:1296: FutureWarning: Using the 'liblinear' solver for multiclass classification is deprecated. An error will be raised in 1.8. Either use another solver which supports the multinomial loss or wrap the estimator in a OneVsRestClassifier to keep applying a one-versus-rest scheme.\n",
      "  warnings.warn(\n",
      "c:\\MINOR_PROJECT\\Classifier\\venv\\Lib\\site-packages\\sklearn\\linear_model\\_logistic.py:1272: FutureWarning: 'multi_class' was deprecated in version 1.5 and will be removed in 1.7. From then on, it will always use 'multinomial'. Leave it to its default value to avoid this warning.\n",
      "  warnings.warn(\n",
      "c:\\MINOR_PROJECT\\Classifier\\venv\\Lib\\site-packages\\sklearn\\linear_model\\_logistic.py:1296: FutureWarning: Using the 'liblinear' solver for multiclass classification is deprecated. An error will be raised in 1.8. Either use another solver which supports the multinomial loss or wrap the estimator in a OneVsRestClassifier to keep applying a one-versus-rest scheme.\n",
      "  warnings.warn(\n",
      "c:\\MINOR_PROJECT\\Classifier\\venv\\Lib\\site-packages\\sklearn\\linear_model\\_logistic.py:1272: FutureWarning: 'multi_class' was deprecated in version 1.5 and will be removed in 1.7. From then on, it will always use 'multinomial'. Leave it to its default value to avoid this warning.\n",
      "  warnings.warn(\n",
      "c:\\MINOR_PROJECT\\Classifier\\venv\\Lib\\site-packages\\sklearn\\linear_model\\_logistic.py:1296: FutureWarning: Using the 'liblinear' solver for multiclass classification is deprecated. An error will be raised in 1.8. Either use another solver which supports the multinomial loss or wrap the estimator in a OneVsRestClassifier to keep applying a one-versus-rest scheme.\n",
      "  warnings.warn(\n",
      "c:\\MINOR_PROJECT\\Classifier\\venv\\Lib\\site-packages\\sklearn\\linear_model\\_logistic.py:1272: FutureWarning: 'multi_class' was deprecated in version 1.5 and will be removed in 1.7. From then on, it will always use 'multinomial'. Leave it to its default value to avoid this warning.\n",
      "  warnings.warn(\n",
      "c:\\MINOR_PROJECT\\Classifier\\venv\\Lib\\site-packages\\sklearn\\linear_model\\_logistic.py:1296: FutureWarning: Using the 'liblinear' solver for multiclass classification is deprecated. An error will be raised in 1.8. Either use another solver which supports the multinomial loss or wrap the estimator in a OneVsRestClassifier to keep applying a one-versus-rest scheme.\n",
      "  warnings.warn(\n",
      "c:\\MINOR_PROJECT\\Classifier\\venv\\Lib\\site-packages\\sklearn\\linear_model\\_logistic.py:1272: FutureWarning: 'multi_class' was deprecated in version 1.5 and will be removed in 1.7. From then on, it will always use 'multinomial'. Leave it to its default value to avoid this warning.\n",
      "  warnings.warn(\n",
      "c:\\MINOR_PROJECT\\Classifier\\venv\\Lib\\site-packages\\sklearn\\linear_model\\_logistic.py:1296: FutureWarning: Using the 'liblinear' solver for multiclass classification is deprecated. An error will be raised in 1.8. Either use another solver which supports the multinomial loss or wrap the estimator in a OneVsRestClassifier to keep applying a one-versus-rest scheme.\n",
      "  warnings.warn(\n",
      "c:\\MINOR_PROJECT\\Classifier\\venv\\Lib\\site-packages\\sklearn\\linear_model\\_logistic.py:1272: FutureWarning: 'multi_class' was deprecated in version 1.5 and will be removed in 1.7. From then on, it will always use 'multinomial'. Leave it to its default value to avoid this warning.\n",
      "  warnings.warn(\n",
      "c:\\MINOR_PROJECT\\Classifier\\venv\\Lib\\site-packages\\sklearn\\linear_model\\_logistic.py:1296: FutureWarning: Using the 'liblinear' solver for multiclass classification is deprecated. An error will be raised in 1.8. Either use another solver which supports the multinomial loss or wrap the estimator in a OneVsRestClassifier to keep applying a one-versus-rest scheme.\n",
      "  warnings.warn(\n",
      "c:\\MINOR_PROJECT\\Classifier\\venv\\Lib\\site-packages\\sklearn\\linear_model\\_logistic.py:1272: FutureWarning: 'multi_class' was deprecated in version 1.5 and will be removed in 1.7. From then on, it will always use 'multinomial'. Leave it to its default value to avoid this warning.\n",
      "  warnings.warn(\n",
      "c:\\MINOR_PROJECT\\Classifier\\venv\\Lib\\site-packages\\sklearn\\linear_model\\_logistic.py:1296: FutureWarning: Using the 'liblinear' solver for multiclass classification is deprecated. An error will be raised in 1.8. Either use another solver which supports the multinomial loss or wrap the estimator in a OneVsRestClassifier to keep applying a one-versus-rest scheme.\n",
      "  warnings.warn(\n",
      "c:\\MINOR_PROJECT\\Classifier\\venv\\Lib\\site-packages\\sklearn\\linear_model\\_logistic.py:1272: FutureWarning: 'multi_class' was deprecated in version 1.5 and will be removed in 1.7. From then on, it will always use 'multinomial'. Leave it to its default value to avoid this warning.\n",
      "  warnings.warn(\n",
      "c:\\MINOR_PROJECT\\Classifier\\venv\\Lib\\site-packages\\sklearn\\linear_model\\_logistic.py:1296: FutureWarning: Using the 'liblinear' solver for multiclass classification is deprecated. An error will be raised in 1.8. Either use another solver which supports the multinomial loss or wrap the estimator in a OneVsRestClassifier to keep applying a one-versus-rest scheme.\n",
      "  warnings.warn(\n",
      "c:\\MINOR_PROJECT\\Classifier\\venv\\Lib\\site-packages\\sklearn\\linear_model\\_logistic.py:1272: FutureWarning: 'multi_class' was deprecated in version 1.5 and will be removed in 1.7. From then on, it will always use 'multinomial'. Leave it to its default value to avoid this warning.\n",
      "  warnings.warn(\n",
      "c:\\MINOR_PROJECT\\Classifier\\venv\\Lib\\site-packages\\sklearn\\linear_model\\_logistic.py:1296: FutureWarning: Using the 'liblinear' solver for multiclass classification is deprecated. An error will be raised in 1.8. Either use another solver which supports the multinomial loss or wrap the estimator in a OneVsRestClassifier to keep applying a one-versus-rest scheme.\n",
      "  warnings.warn(\n"
     ]
    },
    {
     "data": {
      "text/html": [
       "<div>\n",
       "<style scoped>\n",
       "    .dataframe tbody tr th:only-of-type {\n",
       "        vertical-align: middle;\n",
       "    }\n",
       "\n",
       "    .dataframe tbody tr th {\n",
       "        vertical-align: top;\n",
       "    }\n",
       "\n",
       "    .dataframe thead th {\n",
       "        text-align: right;\n",
       "    }\n",
       "</style>\n",
       "<table border=\"1\" class=\"dataframe\">\n",
       "  <thead>\n",
       "    <tr style=\"text-align: right;\">\n",
       "      <th></th>\n",
       "      <th>model</th>\n",
       "      <th>best_score</th>\n",
       "      <th>best_params</th>\n",
       "    </tr>\n",
       "  </thead>\n",
       "  <tbody>\n",
       "    <tr>\n",
       "      <th>0</th>\n",
       "      <td>svm</td>\n",
       "      <td>0.767500</td>\n",
       "      <td>{'svc__C': 1, 'svc__kernel': 'linear'}</td>\n",
       "    </tr>\n",
       "    <tr>\n",
       "      <th>1</th>\n",
       "      <td>logistic_regression</td>\n",
       "      <td>0.870833</td>\n",
       "      <td>{'logisticregression__C': 1}</td>\n",
       "    </tr>\n",
       "  </tbody>\n",
       "</table>\n",
       "</div>"
      ],
      "text/plain": [
       "                 model  best_score                             best_params\n",
       "0                  svm    0.767500  {'svc__C': 1, 'svc__kernel': 'linear'}\n",
       "1  logistic_regression    0.870833            {'logisticregression__C': 1}"
      ]
     },
     "execution_count": 22,
     "metadata": {},
     "output_type": "execute_result"
    }
   ],
   "source": [
    "scores = []\n",
    "best_estimators = {}\n",
    "import pandas as pd\n",
    "for algo, mp in model_params.items():\n",
    "    pipe = make_pipeline(StandardScaler(), mp['model'])\n",
    "    clf =  GridSearchCV(pipe, mp['params'], cv=5, return_train_score=False)\n",
    "    clf.fit(X_train, y_train)\n",
    "    scores.append({\n",
    "        'model': algo,\n",
    "        'best_score': clf.best_score_,\n",
    "        'best_params': clf.best_params_\n",
    "    })\n",
    "    best_estimators[algo] = clf.best_estimator_\n",
    "    \n",
    "df = pd.DataFrame(scores,columns=['model','best_score','best_params'])\n",
    "df"
   ]
  },
  {
   "cell_type": "code",
   "execution_count": 23,
   "id": "975b6d6d",
   "metadata": {},
   "outputs": [
    {
     "data": {
      "text/plain": [
       "{'svm': Pipeline(steps=[('standardscaler', StandardScaler()),\n",
       "                 ('svc',\n",
       "                  SVC(C=1, gamma='auto', kernel='linear', probability=True))]),\n",
       " 'logistic_regression': Pipeline(steps=[('standardscaler', StandardScaler()),\n",
       "                 ('logisticregression',\n",
       "                  LogisticRegression(C=1, multi_class='auto',\n",
       "                                     solver='liblinear'))])}"
      ]
     },
     "execution_count": 23,
     "metadata": {},
     "output_type": "execute_result"
    }
   ],
   "source": [
    "best_estimators"
   ]
  },
  {
   "cell_type": "code",
   "execution_count": 24,
   "id": "eea28e1c",
   "metadata": {},
   "outputs": [
    {
     "data": {
      "text/plain": [
       "0.7692307692307693"
      ]
     },
     "execution_count": 24,
     "metadata": {},
     "output_type": "execute_result"
    }
   ],
   "source": [
    "best_estimators['svm'].score(X_test,y_test)"
   ]
  },
  {
   "cell_type": "code",
   "execution_count": 25,
   "id": "0c11adec",
   "metadata": {},
   "outputs": [
    {
     "data": {
      "text/plain": [
       "0.6153846153846154"
      ]
     },
     "execution_count": 25,
     "metadata": {},
     "output_type": "execute_result"
    }
   ],
   "source": [
    "best_estimators['logistic_regression'].score(X_test,y_test)"
   ]
  },
  {
   "cell_type": "code",
   "execution_count": 26,
   "id": "e14a5114",
   "metadata": {},
   "outputs": [],
   "source": [
    "best_clf = best_estimators['svm']"
   ]
  },
  {
   "cell_type": "code",
   "execution_count": 27,
   "id": "dabf81e9",
   "metadata": {},
   "outputs": [
    {
     "data": {
      "text/plain": [
       "array([[6, 0, 1, 1],\n",
       "       [0, 5, 0, 0],\n",
       "       [0, 0, 5, 4],\n",
       "       [0, 0, 0, 4]])"
      ]
     },
     "execution_count": 27,
     "metadata": {},
     "output_type": "execute_result"
    }
   ],
   "source": [
    "from sklearn.metrics import confusion_matrix\n",
    "cm = confusion_matrix(y_test, best_clf.predict(X_test))\n",
    "cm"
   ]
  },
  {
   "cell_type": "code",
   "execution_count": 28,
   "id": "eeddfe4e",
   "metadata": {},
   "outputs": [
    {
     "data": {
      "text/plain": [
       "['saved_model.pkl']"
      ]
     },
     "execution_count": 28,
     "metadata": {},
     "output_type": "execute_result"
    }
   ],
   "source": [
    "import joblib \n",
    "# Save the model  \n",
    "joblib.dump(best_clf, 'saved_model.pkl') "
   ]
  },
  {
   "cell_type": "code",
   "execution_count": 29,
   "id": "72d8b54e",
   "metadata": {},
   "outputs": [],
   "source": [
    "import json\n",
    "with open(\"class_dictionary.json\",\"w\") as f:\n",
    "    f.write(json.dumps(class_dict))"
   ]
  },
  {
   "cell_type": "code",
   "execution_count": null,
   "id": "ce92ac94",
   "metadata": {},
   "outputs": [],
   "source": []
  }
 ],
 "metadata": {
  "kernelspec": {
   "display_name": "Python 3",
   "language": "python",
   "name": "python3"
  },
  "language_info": {
   "codemirror_mode": {
    "name": "ipython",
    "version": 3
   },
   "file_extension": ".py",
   "mimetype": "text/x-python",
   "name": "python",
   "nbconvert_exporter": "python",
   "pygments_lexer": "ipython3",
   "version": "3.13.0"
  }
 },
 "nbformat": 4,
 "nbformat_minor": 5
}
